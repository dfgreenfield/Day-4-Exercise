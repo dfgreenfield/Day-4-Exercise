{
 "cells": [
  {
   "cell_type": "code",
   "execution_count": null,
   "metadata": {},
   "outputs": [],
   "source": [
    "# Exercise 1: Ask for a birthday, a favorite gift, and their dream job is and display that information within a block quote"
   ]
  },
  {
   "cell_type": "code",
   "execution_count": 6,
   "metadata": {},
   "outputs": [
    {
     "name": "stdout",
     "output_type": "stream",
     "text": [
      "When is your birthday?\n",
      "What is your favorite gift?\n",
      "What is your dream job?\n",
      "May 11,1995  Jewelry     Interior Design\n"
     ]
    }
   ],
   "source": [
    "print(\"\"\"When is your birthday?\n",
    "What is your favorite gift?\n",
    "What is your dream job?\"\"\")\n",
    "answer=input()\n"
   ]
  },
  {
   "cell_type": "code",
   "execution_count": null,
   "metadata": {},
   "outputs": [],
   "source": [
    "# Exercise 2: Ask for a favorite song, favorite movie, and favorite book.\n",
    "# Use print statements to ask the questions, however they must type the answer on the same line the question is asked\n",
    "# Display the result"
   ]
  },
  {
   "cell_type": "code",
   "execution_count": 8,
   "metadata": {},
   "outputs": [
    {
     "name": "stdout",
     "output_type": "stream",
     "text": [
      "What is your favorite song? Power Trip by J.Cole\n",
      "What is your favorite movie? Notebook\n",
      "What is your favorite book? Goosebumps\n"
     ]
    }
   ],
   "source": [
    "print(\"What is your favorite song?\", end=' ')\n",
    "song=input()\n",
    "print(\"What is your favorite movie?\", end=' ')\n",
    "movie=input()\n",
    "print(\"What is your favorite book?\", end=' ')\n",
    "book=input()"
   ]
  },
  {
   "cell_type": "code",
   "execution_count": null,
   "metadata": {},
   "outputs": [],
   "source": [
    "# Exercise 3: Ask what they are going to give you for your birthday and ask them how old you are turning.\n",
    "# Do not use any print statements to prompt for the inputs. \n",
    "# Display the answers in a nicely formated way.(may only use one print statement)"
   ]
  },
  {
   "cell_type": "code",
   "execution_count": 15,
   "metadata": {},
   "outputs": [
    {
     "name": "stdout",
     "output_type": "stream",
     "text": [
      "What are you going to give me for my birthday? a pair of shoes\n",
      "How old are you? 27\n",
      "I am going give you a pair of shoes, and you are 27 years old.\n"
     ]
    }
   ],
   "source": [
    "gift=input(\"What are you going to give me for my birthday? \")\n",
    "age=input(\"How old are you? \")\n",
    "\n",
    "print(f\"I am going give you {gift}, and you are {age} years old.\")"
   ]
  },
  {
   "cell_type": "code",
   "execution_count": null,
   "metadata": {},
   "outputs": [],
   "source": [
    "# Exercise 4: What is the input() piece in code called? \n",
    "# Why do we use things like print(), input(), or our own sets?\n",
    "# Why do we use comments? \n",
    "# Why do we use variables?\n",
    "# What do we do we do before we take an input? Why?\n",
    "# Please print this answer using only one print statement"
   ]
  },
  {
   "cell_type": "code",
   "execution_count": 14,
   "metadata": {},
   "outputs": [
    {
     "name": "stdout",
     "output_type": "stream",
     "text": [
      "The input piece in code is a called a built-in funtion.\n",
      "We use these functions to output data.\n",
      "We use comments to let people know what is happening within a function.\n",
      "We use variable names so that they can be referenced in the code.\n",
      "Before we take inputs, we give it a variable so the input can be defined.\n",
      "\n"
     ]
    }
   ],
   "source": [
    "print(\"\"\"The input piece in code is a called a built-in funtion.\n",
    "We use these functions to output data.\n",
    "We use comments to let people know what is happening within a function.\n",
    "We use variable names so that they can be referenced in the code.\n",
    "Before we take inputs, we give it a variable so the input can be defined.\n",
    "\"\"\")"
   ]
  },
  {
   "cell_type": "code",
   "execution_count": null,
   "metadata": {},
   "outputs": [],
   "source": [
    "# Exercise 5: Your partner is asking you to go to eat.\n",
    "# Use print statments to ask the questions and your inputs should nicely formated like the third lesson \n",
    "# They ask you what time you want to go, where you want to eat, and how you will be getting there.\n",
    "# Make the conversation flow like you were texting someone\n",
    "\n",
    "# Example: What time do you want to eat? \n",
    "# > 7:30pm\n",
    "# Okay! 7:30pm, where?\n",
    "# > Iron Age\n",
    "# Gotcha, I booked us a table at Iron Age.\n",
    "# How are you going to get there?\n",
    "# > I taking the car\n",
    "# Sounds good! I'll see you then."
   ]
  },
  {
   "cell_type": "code",
   "execution_count": 19,
   "metadata": {},
   "outputs": [
    {
     "name": "stdout",
     "output_type": "stream",
     "text": [
      "Hey, I am going to dinner later if you would like to come.\n",
      "Yea sure! What time? \n",
      "->8 pm\n",
      "Sounds good, I will be ready at 8 pm\n",
      "Where do you want to eat?\n",
      "->Mastros\n",
      "I know a really good steakhouse called Mastros.\n",
      "Great, I love steak. How will you be getting there?\n",
      "->I am having a limo come pick me up. I can have them pick you up too!\n",
      "I will make sure I am ready!\n"
     ]
    }
   ],
   "source": [
    "prompt= '->'\n",
    "\n",
    "print(\"Hey, I am going to dinner later if you would like to come.\")\n",
    "print(\"Yea sure! What time? \")\n",
    "time=input(prompt)\n",
    "\n",
    "print(f\"Sounds good, I will be ready at {time}\")\n",
    "print(\"Where do you want to eat?\")\n",
    "eat=input(prompt)\n",
    "\n",
    "print(f\"I know a really good steakhouse called {eat}.\")\n",
    "print(\"Great, I love steak. How will you be getting there?\")\n",
    "transportation=input(prompt)\n",
    "\n",
    "print(\"I will make sure I am ready!\")\n",
    "\n",
    "\n",
    "\n"
   ]
  },
  {
   "cell_type": "code",
   "execution_count": null,
   "metadata": {},
   "outputs": [],
   "source": [
    "# Exercise 6: Create a function that concatonates a two strings and prints the new sentence out. \n",
    "# Ask a user to type in two strings and print out the concatonation by calling your function.\n"
   ]
  },
  {
   "cell_type": "code",
   "execution_count": 29,
   "metadata": {},
   "outputs": [
    {
     "name": "stdout",
     "output_type": "stream",
     "text": [
      "I want food.I want water.\n"
     ]
    }
   ],
   "source": [
    "def dos():\n",
    "    print(\"I want food.\"+\"I want water.\")\n",
    "    \n",
    "dos()"
   ]
  },
  {
   "cell_type": "code",
   "execution_count": null,
   "metadata": {},
   "outputs": [],
   "source": [
    "# Exercise 7: Create a function that needs nothing and prints out the Happy birthday song in Spanish. \n",
    "# Use the function to display the result.\n",
    "# The song lyric is below\n",
    "\n",
    "# Feliz cumpleaños a ti\n",
    "# feliz cumpleaños a ti\n",
    "# feliz cumpleaños querido amigo\n",
    "# feliz cumpleaños a ti."
   ]
  },
  {
   "cell_type": "code",
   "execution_count": 30,
   "metadata": {},
   "outputs": [
    {
     "name": "stdout",
     "output_type": "stream",
     "text": [
      "Feliz cumpleaños a ti\n",
      "    feliz cumpleaños a ti\n",
      "    feliz cumpleaños querido amigo\n",
      "    feliz cumpleaños a ti.\n"
     ]
    }
   ],
   "source": [
    "def feliz():\n",
    "    print(\"\"\"Feliz cumpleaños a ti\n",
    "    feliz cumpleaños a ti\n",
    "    feliz cumpleaños querido amigo\n",
    "    feliz cumpleaños a ti.\"\"\")\n",
    "    \n",
    "feliz()"
   ]
  },
  {
   "cell_type": "code",
   "execution_count": null,
   "metadata": {},
   "outputs": [],
   "source": [
    "# Exercise 8: Create a function that takes the sum of three numbers and returns the value\n",
    "# Make sure to use the function and display the result\n",
    "# When you are done, get 3 numbers from a user and then print out the sum using your function"
   ]
  },
  {
   "cell_type": "code",
   "execution_count": 31,
   "metadata": {},
   "outputs": [
    {
     "name": "stdout",
     "output_type": "stream",
     "text": [
      "20 + 5 + 3 = 28\n"
     ]
    }
   ],
   "source": [
    "def fun(arg1,arg2,arg3):\n",
    "    temp_val= arg1 + arg2 + arg3\n",
    "    return temp_val\n",
    "\n",
    "print(f\"20 + 5 + 3 = {fun(20,5,3)}\")\n",
    "    "
   ]
  },
  {
   "cell_type": "code",
   "execution_count": null,
   "metadata": {},
   "outputs": [],
   "source": [
    "# Exercise 9: Create a function that takes two arguments and prints out a sentence or word by the amount of times you specify."
   ]
  },
  {
   "cell_type": "code",
   "execution_count": 33,
   "metadata": {},
   "outputs": [
    {
     "name": "stdout",
     "output_type": "stream",
     "text": [
      "'$','#''$','#''$','#''$','#''$','#''$','#''$','#''$','#''$','#''$','#'\n"
     ]
    }
   ],
   "source": [
    "def peat():\n",
    "    print(\"'$','#'\"* 10)\n",
    "peat()"
   ]
  },
  {
   "cell_type": "code",
   "execution_count": null,
   "metadata": {},
   "outputs": [],
   "source": [
    "# Exercise 10: Create a function within a function\n",
    "# Create a function for \n",
    "#     adding 2 numbers, \n",
    "#     subtracting 2 numbers, \n",
    "#     multiplying 2 numbers, \n",
    "#     and dividing 2 numbers.\n",
    "#\n",
    "# Then create a function that will compute \n",
    "#      BMI = ( Weight in Pounds / ( Height in inches x Height in inches ) ) x 703\n",
    "#\n",
    "# Get a weight and height from a user to compute user's BMI using your functions."
   ]
  },
  {
   "cell_type": "code",
   "execution_count": 36,
   "metadata": {},
   "outputs": [
    {
     "name": "stdout",
     "output_type": "stream",
     "text": [
      "ADDING 10 + 5\n",
      "SUBTRACT 10 - 2\n",
      "MULTIPLYING 10 * 5\n",
      "DIVIDING 10 / 5\n"
     ]
    }
   ],
   "source": [
    "def add(a,b):\n",
    "    print(f\"ADDING {a} + {b}\")\n",
    "    return a + b\n",
    "\n",
    "def subtract(a,b):\n",
    "    print(f\"SUBTRACT {a} - {b}\")\n",
    "    return a - b\n",
    "\n",
    "def multiply(a,b):\n",
    "    print(f\"MULTIPLYING {a} * {b}\")\n",
    "    return a * b\n",
    "\n",
    "def divide(a,b):\n",
    "    print(f\"DIVIDING {a} / {b}\")\n",
    "    return a / b\n",
    "\n",
    "age=add(10,5)\n",
    "height=subtract(10,2)\n",
    "weight=multiply(10,5)\n",
    "iq=divide(10,5)\n",
    "\n",
    "\n",
    "\n",
    "\n",
    "\n"
   ]
  },
  {
   "cell_type": "code",
   "execution_count": null,
   "metadata": {},
   "outputs": [],
   "source": [
    "# Exercise 11: \n",
    "# Modify and use your pseudocode for \"Find the average score\" from \n",
    "# Day 2 homework to create a function that takes 3 arguements \n",
    "# and returns their average\n",
    "# Get three numbers from a user and use your function to compute their average"
   ]
  },
  {
   "cell_type": "code",
   "execution_count": null,
   "metadata": {},
   "outputs": [],
   "source": [
    "# Exercise 12:\n",
    "# Using your pseudocode for \"How much water runs off a roof in a rain storm?\" \n",
    "# from Day 2 homework, write a Python program with a function. \n",
    "# Which functionality make sense to modulize into a function?"
   ]
  }
 ],
 "metadata": {
  "kernelspec": {
   "display_name": "Python 3",
   "language": "python",
   "name": "python3"
  },
  "language_info": {
   "codemirror_mode": {
    "name": "ipython",
    "version": 3
   },
   "file_extension": ".py",
   "mimetype": "text/x-python",
   "name": "python",
   "nbconvert_exporter": "python",
   "pygments_lexer": "ipython3",
   "version": "3.8.8"
  }
 },
 "nbformat": 4,
 "nbformat_minor": 2
}
